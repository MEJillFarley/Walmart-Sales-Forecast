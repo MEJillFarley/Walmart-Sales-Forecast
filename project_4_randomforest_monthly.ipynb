{
  "cells": [
    {
      "cell_type": "code",
      "execution_count": 1,
      "metadata": {
        "id": "fGnrBCLr9Krs"
      },
      "outputs": [],
      "source": [
        "import pandas as pd\n",
        "import numpy as np\n",
        "from pathlib import Path\n",
        "import matplotlib.pyplot as plt\n",
        "from sklearn.ensemble import RandomForestRegressor\n",
        "from sklearn.preprocessing import StandardScaler\n",
        "from sklearn.metrics import r2_score\n",
        "from sklearn.metrics import confusion_matrix, accuracy_score, classification_report"
      ]
    },
    {
      "cell_type": "code",
      "execution_count": 2,
      "metadata": {
        "colab": {
          "base_uri": "https://localhost:8080/",
          "height": 228
        },
        "id": "hwStIbQr9Kru",
        "outputId": "b736c091-9c31-4325-df02-88ea10b1285d"
      },
      "outputs": [
        {
          "output_type": "execute_result",
          "data": {
            "text/plain": [
              "   Unnamed: 0  Store        Date  IsHoliday  Dept  Weekly_Sales  Temperature  \\\n",
              "0           0      1  2010-02-05          0   1.0      24924.50        42.31   \n",
              "1           1      1  2010-02-05          0  26.0      11737.12        42.31   \n",
              "\n",
              "   Fuel_Price  MarkDown1  MarkDown2  MarkDown3  MarkDown4  MarkDown5  \\\n",
              "0       2.572        0.0        0.0        0.0        0.0        0.0   \n",
              "1       2.572        0.0        0.0        0.0        0.0        0.0   \n",
              "\n",
              "          CPI  Unemployment  Type    Size  \n",
              "0  211.096358         8.106     3  151315  \n",
              "1  211.096358         8.106     3  151315  "
            ],
            "text/html": [
              "\n",
              "  <div id=\"df-235a5ffa-153f-43ed-b983-7e86446a22c1\">\n",
              "    <div class=\"colab-df-container\">\n",
              "      <div>\n",
              "<style scoped>\n",
              "    .dataframe tbody tr th:only-of-type {\n",
              "        vertical-align: middle;\n",
              "    }\n",
              "\n",
              "    .dataframe tbody tr th {\n",
              "        vertical-align: top;\n",
              "    }\n",
              "\n",
              "    .dataframe thead th {\n",
              "        text-align: right;\n",
              "    }\n",
              "</style>\n",
              "<table border=\"1\" class=\"dataframe\">\n",
              "  <thead>\n",
              "    <tr style=\"text-align: right;\">\n",
              "      <th></th>\n",
              "      <th>Unnamed: 0</th>\n",
              "      <th>Store</th>\n",
              "      <th>Date</th>\n",
              "      <th>IsHoliday</th>\n",
              "      <th>Dept</th>\n",
              "      <th>Weekly_Sales</th>\n",
              "      <th>Temperature</th>\n",
              "      <th>Fuel_Price</th>\n",
              "      <th>MarkDown1</th>\n",
              "      <th>MarkDown2</th>\n",
              "      <th>MarkDown3</th>\n",
              "      <th>MarkDown4</th>\n",
              "      <th>MarkDown5</th>\n",
              "      <th>CPI</th>\n",
              "      <th>Unemployment</th>\n",
              "      <th>Type</th>\n",
              "      <th>Size</th>\n",
              "    </tr>\n",
              "  </thead>\n",
              "  <tbody>\n",
              "    <tr>\n",
              "      <th>0</th>\n",
              "      <td>0</td>\n",
              "      <td>1</td>\n",
              "      <td>2010-02-05</td>\n",
              "      <td>0</td>\n",
              "      <td>1.0</td>\n",
              "      <td>24924.50</td>\n",
              "      <td>42.31</td>\n",
              "      <td>2.572</td>\n",
              "      <td>0.0</td>\n",
              "      <td>0.0</td>\n",
              "      <td>0.0</td>\n",
              "      <td>0.0</td>\n",
              "      <td>0.0</td>\n",
              "      <td>211.096358</td>\n",
              "      <td>8.106</td>\n",
              "      <td>3</td>\n",
              "      <td>151315</td>\n",
              "    </tr>\n",
              "    <tr>\n",
              "      <th>1</th>\n",
              "      <td>1</td>\n",
              "      <td>1</td>\n",
              "      <td>2010-02-05</td>\n",
              "      <td>0</td>\n",
              "      <td>26.0</td>\n",
              "      <td>11737.12</td>\n",
              "      <td>42.31</td>\n",
              "      <td>2.572</td>\n",
              "      <td>0.0</td>\n",
              "      <td>0.0</td>\n",
              "      <td>0.0</td>\n",
              "      <td>0.0</td>\n",
              "      <td>0.0</td>\n",
              "      <td>211.096358</td>\n",
              "      <td>8.106</td>\n",
              "      <td>3</td>\n",
              "      <td>151315</td>\n",
              "    </tr>\n",
              "  </tbody>\n",
              "</table>\n",
              "</div>\n",
              "      <button class=\"colab-df-convert\" onclick=\"convertToInteractive('df-235a5ffa-153f-43ed-b983-7e86446a22c1')\"\n",
              "              title=\"Convert this dataframe to an interactive table.\"\n",
              "              style=\"display:none;\">\n",
              "        \n",
              "  <svg xmlns=\"http://www.w3.org/2000/svg\" height=\"24px\"viewBox=\"0 0 24 24\"\n",
              "       width=\"24px\">\n",
              "    <path d=\"M0 0h24v24H0V0z\" fill=\"none\"/>\n",
              "    <path d=\"M18.56 5.44l.94 2.06.94-2.06 2.06-.94-2.06-.94-.94-2.06-.94 2.06-2.06.94zm-11 1L8.5 8.5l.94-2.06 2.06-.94-2.06-.94L8.5 2.5l-.94 2.06-2.06.94zm10 10l.94 2.06.94-2.06 2.06-.94-2.06-.94-.94-2.06-.94 2.06-2.06.94z\"/><path d=\"M17.41 7.96l-1.37-1.37c-.4-.4-.92-.59-1.43-.59-.52 0-1.04.2-1.43.59L10.3 9.45l-7.72 7.72c-.78.78-.78 2.05 0 2.83L4 21.41c.39.39.9.59 1.41.59.51 0 1.02-.2 1.41-.59l7.78-7.78 2.81-2.81c.8-.78.8-2.07 0-2.86zM5.41 20L4 18.59l7.72-7.72 1.47 1.35L5.41 20z\"/>\n",
              "  </svg>\n",
              "      </button>\n",
              "      \n",
              "  <style>\n",
              "    .colab-df-container {\n",
              "      display:flex;\n",
              "      flex-wrap:wrap;\n",
              "      gap: 12px;\n",
              "    }\n",
              "\n",
              "    .colab-df-convert {\n",
              "      background-color: #E8F0FE;\n",
              "      border: none;\n",
              "      border-radius: 50%;\n",
              "      cursor: pointer;\n",
              "      display: none;\n",
              "      fill: #1967D2;\n",
              "      height: 32px;\n",
              "      padding: 0 0 0 0;\n",
              "      width: 32px;\n",
              "    }\n",
              "\n",
              "    .colab-df-convert:hover {\n",
              "      background-color: #E2EBFA;\n",
              "      box-shadow: 0px 1px 2px rgba(60, 64, 67, 0.3), 0px 1px 3px 1px rgba(60, 64, 67, 0.15);\n",
              "      fill: #174EA6;\n",
              "    }\n",
              "\n",
              "    [theme=dark] .colab-df-convert {\n",
              "      background-color: #3B4455;\n",
              "      fill: #D2E3FC;\n",
              "    }\n",
              "\n",
              "    [theme=dark] .colab-df-convert:hover {\n",
              "      background-color: #434B5C;\n",
              "      box-shadow: 0px 1px 3px 1px rgba(0, 0, 0, 0.15);\n",
              "      filter: drop-shadow(0px 1px 2px rgba(0, 0, 0, 0.3));\n",
              "      fill: #FFFFFF;\n",
              "    }\n",
              "  </style>\n",
              "\n",
              "      <script>\n",
              "        const buttonEl =\n",
              "          document.querySelector('#df-235a5ffa-153f-43ed-b983-7e86446a22c1 button.colab-df-convert');\n",
              "        buttonEl.style.display =\n",
              "          google.colab.kernel.accessAllowed ? 'block' : 'none';\n",
              "\n",
              "        async function convertToInteractive(key) {\n",
              "          const element = document.querySelector('#df-235a5ffa-153f-43ed-b983-7e86446a22c1');\n",
              "          const dataTable =\n",
              "            await google.colab.kernel.invokeFunction('convertToInteractive',\n",
              "                                                     [key], {});\n",
              "          if (!dataTable) return;\n",
              "\n",
              "          const docLinkHtml = 'Like what you see? Visit the ' +\n",
              "            '<a target=\"_blank\" href=https://colab.research.google.com/notebooks/data_table.ipynb>data table notebook</a>'\n",
              "            + ' to learn more about interactive tables.';\n",
              "          element.innerHTML = '';\n",
              "          dataTable['output_type'] = 'display_data';\n",
              "          await google.colab.output.renderOutput(dataTable, element);\n",
              "          const docLink = document.createElement('div');\n",
              "          docLink.innerHTML = docLinkHtml;\n",
              "          element.appendChild(docLink);\n",
              "        }\n",
              "      </script>\n",
              "    </div>\n",
              "  </div>\n",
              "  "
            ]
          },
          "metadata": {},
          "execution_count": 2
        }
      ],
      "source": [
        "# Read input data\n",
        "sales_df = pd.read_csv('walmart_cleaned.csv')\n",
        "sales_df.head(2)"
      ]
    },
    {
      "cell_type": "code",
      "execution_count": 3,
      "metadata": {
        "colab": {
          "base_uri": "https://localhost:8080/"
        },
        "id": "wqiN4ZsN9Krv",
        "outputId": "8c87a5ae-f2ef-4c5b-9c78-c326d9654da8"
      },
      "outputs": [
        {
          "output_type": "execute_result",
          "data": {
            "text/plain": [
              "Unnamed: 0               int64\n",
              "Store                    int64\n",
              "Date            datetime64[ns]\n",
              "IsHoliday                int64\n",
              "Dept                   float64\n",
              "Weekly_Sales           float64\n",
              "Temperature            float64\n",
              "Fuel_Price             float64\n",
              "MarkDown1              float64\n",
              "MarkDown2              float64\n",
              "MarkDown3              float64\n",
              "MarkDown4              float64\n",
              "MarkDown5              float64\n",
              "CPI                    float64\n",
              "Unemployment           float64\n",
              "Type                     int64\n",
              "Size                     int64\n",
              "week_of_year            UInt32\n",
              "year                     int64\n",
              "month                    int64\n",
              "day                      int64\n",
              "Year_Month      datetime64[ns]\n",
              "ym_int                   int64\n",
              "dtype: object"
            ]
          },
          "metadata": {},
          "execution_count": 3
        }
      ],
      "source": [
        "sales_df['Date'] = pd.to_datetime(sales_df['Date'])\n",
        "sales_df['week_of_year'] = sales_df['Date'].dt.isocalendar().week\n",
        "sales_df['year'] = sales_df['Date'].dt.year\n",
        "sales_df['month'] = sales_df['Date'].dt.month\n",
        "sales_df['day'] = 1\n",
        "sales_df['Year_Month'] = pd.to_datetime(sales_df[['year', 'month', 'day']])\n",
        "sales_df['Year_Month'] = pd.to_datetime(sales_df['Year_Month'])\n",
        "sales_df['ym_int'] = (sales_df['year'].astype(int) * 100) + sales_df['month'].astype(int)\n",
        "sales_df.dtypes"
      ]
    },
    {
      "cell_type": "code",
      "execution_count": 4,
      "metadata": {
        "id": "jSga83F19Krv"
      },
      "outputs": [],
      "source": [
        "sales_df['IS_XMAS'] = 0\n",
        "sales_df['IS_SUPERBOWL'] = 0\n",
        "sales_df['IS_TGIVING'] = 0\n",
        "sales_df['IS_LABORDAY'] = 0\n",
        "sales_df.loc[sales_df['week_of_year'] == 6, 'IS_SUPERBOWL'] = 1\n",
        "sales_df.loc[sales_df['week_of_year'] == 36, 'IS_LABORDAY'] = 1\n",
        "sales_df.loc[sales_df['week_of_year'] == 47, 'IS_TGIVING'] = 1\n",
        "sales_df.loc[sales_df['week_of_year'] == 52, 'IS_XMAS'] = 1"
      ]
    },
    {
      "cell_type": "code",
      "execution_count": 5,
      "metadata": {
        "colab": {
          "base_uri": "https://localhost:8080/",
          "height": 424
        },
        "id": "bf5SJKDb9Krw",
        "outputId": "652b312c-64c8-4220-f87b-bf9206657ac5"
      },
      "outputs": [
        {
          "output_type": "execute_result",
          "data": {
            "text/plain": [
              "          Date  week_of_year  Weekly_Sales\n",
              "0   2010-02-05             5   49750740.50\n",
              "1   2010-02-12             6   48336677.63\n",
              "2   2010-02-19             7   48276993.78\n",
              "3   2010-02-26             8   43968571.13\n",
              "4   2010-03-05             9   46871470.30\n",
              "..         ...           ...           ...\n",
              "138 2012-09-28            39   43734899.40\n",
              "139 2012-10-05            40   47566639.31\n",
              "140 2012-10-12            41   46128514.25\n",
              "141 2012-10-19            42   45122410.57\n",
              "142 2012-10-26            43   45544116.29\n",
              "\n",
              "[143 rows x 3 columns]"
            ],
            "text/html": [
              "\n",
              "  <div id=\"df-75dbee12-2ff6-4c98-bb2c-bfa8a8eeed0a\">\n",
              "    <div class=\"colab-df-container\">\n",
              "      <div>\n",
              "<style scoped>\n",
              "    .dataframe tbody tr th:only-of-type {\n",
              "        vertical-align: middle;\n",
              "    }\n",
              "\n",
              "    .dataframe tbody tr th {\n",
              "        vertical-align: top;\n",
              "    }\n",
              "\n",
              "    .dataframe thead th {\n",
              "        text-align: right;\n",
              "    }\n",
              "</style>\n",
              "<table border=\"1\" class=\"dataframe\">\n",
              "  <thead>\n",
              "    <tr style=\"text-align: right;\">\n",
              "      <th></th>\n",
              "      <th>Date</th>\n",
              "      <th>week_of_year</th>\n",
              "      <th>Weekly_Sales</th>\n",
              "    </tr>\n",
              "  </thead>\n",
              "  <tbody>\n",
              "    <tr>\n",
              "      <th>0</th>\n",
              "      <td>2010-02-05</td>\n",
              "      <td>5</td>\n",
              "      <td>49750740.50</td>\n",
              "    </tr>\n",
              "    <tr>\n",
              "      <th>1</th>\n",
              "      <td>2010-02-12</td>\n",
              "      <td>6</td>\n",
              "      <td>48336677.63</td>\n",
              "    </tr>\n",
              "    <tr>\n",
              "      <th>2</th>\n",
              "      <td>2010-02-19</td>\n",
              "      <td>7</td>\n",
              "      <td>48276993.78</td>\n",
              "    </tr>\n",
              "    <tr>\n",
              "      <th>3</th>\n",
              "      <td>2010-02-26</td>\n",
              "      <td>8</td>\n",
              "      <td>43968571.13</td>\n",
              "    </tr>\n",
              "    <tr>\n",
              "      <th>4</th>\n",
              "      <td>2010-03-05</td>\n",
              "      <td>9</td>\n",
              "      <td>46871470.30</td>\n",
              "    </tr>\n",
              "    <tr>\n",
              "      <th>...</th>\n",
              "      <td>...</td>\n",
              "      <td>...</td>\n",
              "      <td>...</td>\n",
              "    </tr>\n",
              "    <tr>\n",
              "      <th>138</th>\n",
              "      <td>2012-09-28</td>\n",
              "      <td>39</td>\n",
              "      <td>43734899.40</td>\n",
              "    </tr>\n",
              "    <tr>\n",
              "      <th>139</th>\n",
              "      <td>2012-10-05</td>\n",
              "      <td>40</td>\n",
              "      <td>47566639.31</td>\n",
              "    </tr>\n",
              "    <tr>\n",
              "      <th>140</th>\n",
              "      <td>2012-10-12</td>\n",
              "      <td>41</td>\n",
              "      <td>46128514.25</td>\n",
              "    </tr>\n",
              "    <tr>\n",
              "      <th>141</th>\n",
              "      <td>2012-10-19</td>\n",
              "      <td>42</td>\n",
              "      <td>45122410.57</td>\n",
              "    </tr>\n",
              "    <tr>\n",
              "      <th>142</th>\n",
              "      <td>2012-10-26</td>\n",
              "      <td>43</td>\n",
              "      <td>45544116.29</td>\n",
              "    </tr>\n",
              "  </tbody>\n",
              "</table>\n",
              "<p>143 rows × 3 columns</p>\n",
              "</div>\n",
              "      <button class=\"colab-df-convert\" onclick=\"convertToInteractive('df-75dbee12-2ff6-4c98-bb2c-bfa8a8eeed0a')\"\n",
              "              title=\"Convert this dataframe to an interactive table.\"\n",
              "              style=\"display:none;\">\n",
              "        \n",
              "  <svg xmlns=\"http://www.w3.org/2000/svg\" height=\"24px\"viewBox=\"0 0 24 24\"\n",
              "       width=\"24px\">\n",
              "    <path d=\"M0 0h24v24H0V0z\" fill=\"none\"/>\n",
              "    <path d=\"M18.56 5.44l.94 2.06.94-2.06 2.06-.94-2.06-.94-.94-2.06-.94 2.06-2.06.94zm-11 1L8.5 8.5l.94-2.06 2.06-.94-2.06-.94L8.5 2.5l-.94 2.06-2.06.94zm10 10l.94 2.06.94-2.06 2.06-.94-2.06-.94-.94-2.06-.94 2.06-2.06.94z\"/><path d=\"M17.41 7.96l-1.37-1.37c-.4-.4-.92-.59-1.43-.59-.52 0-1.04.2-1.43.59L10.3 9.45l-7.72 7.72c-.78.78-.78 2.05 0 2.83L4 21.41c.39.39.9.59 1.41.59.51 0 1.02-.2 1.41-.59l7.78-7.78 2.81-2.81c.8-.78.8-2.07 0-2.86zM5.41 20L4 18.59l7.72-7.72 1.47 1.35L5.41 20z\"/>\n",
              "  </svg>\n",
              "      </button>\n",
              "      \n",
              "  <style>\n",
              "    .colab-df-container {\n",
              "      display:flex;\n",
              "      flex-wrap:wrap;\n",
              "      gap: 12px;\n",
              "    }\n",
              "\n",
              "    .colab-df-convert {\n",
              "      background-color: #E8F0FE;\n",
              "      border: none;\n",
              "      border-radius: 50%;\n",
              "      cursor: pointer;\n",
              "      display: none;\n",
              "      fill: #1967D2;\n",
              "      height: 32px;\n",
              "      padding: 0 0 0 0;\n",
              "      width: 32px;\n",
              "    }\n",
              "\n",
              "    .colab-df-convert:hover {\n",
              "      background-color: #E2EBFA;\n",
              "      box-shadow: 0px 1px 2px rgba(60, 64, 67, 0.3), 0px 1px 3px 1px rgba(60, 64, 67, 0.15);\n",
              "      fill: #174EA6;\n",
              "    }\n",
              "\n",
              "    [theme=dark] .colab-df-convert {\n",
              "      background-color: #3B4455;\n",
              "      fill: #D2E3FC;\n",
              "    }\n",
              "\n",
              "    [theme=dark] .colab-df-convert:hover {\n",
              "      background-color: #434B5C;\n",
              "      box-shadow: 0px 1px 3px 1px rgba(0, 0, 0, 0.15);\n",
              "      filter: drop-shadow(0px 1px 2px rgba(0, 0, 0, 0.3));\n",
              "      fill: #FFFFFF;\n",
              "    }\n",
              "  </style>\n",
              "\n",
              "      <script>\n",
              "        const buttonEl =\n",
              "          document.querySelector('#df-75dbee12-2ff6-4c98-bb2c-bfa8a8eeed0a button.colab-df-convert');\n",
              "        buttonEl.style.display =\n",
              "          google.colab.kernel.accessAllowed ? 'block' : 'none';\n",
              "\n",
              "        async function convertToInteractive(key) {\n",
              "          const element = document.querySelector('#df-75dbee12-2ff6-4c98-bb2c-bfa8a8eeed0a');\n",
              "          const dataTable =\n",
              "            await google.colab.kernel.invokeFunction('convertToInteractive',\n",
              "                                                     [key], {});\n",
              "          if (!dataTable) return;\n",
              "\n",
              "          const docLinkHtml = 'Like what you see? Visit the ' +\n",
              "            '<a target=\"_blank\" href=https://colab.research.google.com/notebooks/data_table.ipynb>data table notebook</a>'\n",
              "            + ' to learn more about interactive tables.';\n",
              "          element.innerHTML = '';\n",
              "          dataTable['output_type'] = 'display_data';\n",
              "          await google.colab.output.renderOutput(dataTable, element);\n",
              "          const docLink = document.createElement('div');\n",
              "          docLink.innerHTML = docLinkHtml;\n",
              "          element.appendChild(docLink);\n",
              "        }\n",
              "      </script>\n",
              "    </div>\n",
              "  </div>\n",
              "  "
            ]
          },
          "metadata": {},
          "execution_count": 5
        }
      ],
      "source": [
        "temp_grouped = sales_df.groupby(['Date', 'week_of_year'])['Weekly_Sales'].sum().reset_index()\n",
        "temp_grouped"
      ]
    },
    {
      "cell_type": "code",
      "execution_count": 6,
      "metadata": {
        "colab": {
          "base_uri": "https://localhost:8080/",
          "height": 463
        },
        "id": "awocqg__9Krw",
        "outputId": "107a567d-0efe-4d1a-8a60-0d644d7729ef"
      },
      "outputs": [
        {
          "output_type": "execute_result",
          "data": {
            "text/plain": [
              "[<matplotlib.lines.Line2D at 0x7fe02e3022e0>]"
            ]
          },
          "metadata": {},
          "execution_count": 6
        },
        {
          "output_type": "display_data",
          "data": {
            "text/plain": [
              "<Figure size 640x480 with 1 Axes>"
            ],
            "image/png": "[encoded data removed]"
          },
          "metadata": {}
        }
      ],
      "source": [
        "plt.plot(temp_grouped['Date'], temp_grouped['Weekly_Sales'])"
      ]
    },
    {
      "cell_type": "code",
      "execution_count": 7,
      "metadata": {
        "id": "wo51joki9Krw"
      },
      "outputs": [],
      "source": [
        "col_names = ['Weekly_Sales', 'Temperature', 'Fuel_Price', 'CPI', 'Unemployment', 'Size', 'ym_int',\n",
        "             'IS_SUPERBOWL', 'IS_TGIVING', 'IS_XMAS', 'IS_LABORDAY']\n",
        "sales_df_grouped = sales_df.groupby(['Date', 'week_of_year'])[col_names].agg(\n",
        "    {'Weekly_Sales': 'sum', 'Temperature': 'mean', 'Fuel_Price': 'mean', 'CPI': 'mean', 'Unemployment': 'mean', 'Size': 'mean',\n",
        "     'IS_XMAS' : 'max', 'IS_SUPERBOWL' : 'max', 'IS_TGIVING' : 'max', 'IS_LABORDAY' : 'max', 'ym_int': 'min'}\n",
        ").reset_index()"
      ]
    },
    {
      "cell_type": "code",
      "execution_count": 8,
      "metadata": {
        "colab": {
          "base_uri": "https://localhost:8080/"
        },
        "id": "jTokPmtk9Krw",
        "outputId": "10693de3-cb15-4dcb-b2f8-64378a3cd239"
      },
      "outputs": [
        {
          "output_type": "execute_result",
          "data": {
            "text/plain": [
              "(143, 13)"
            ]
          },
          "metadata": {},
          "execution_count": 8
        }
      ],
      "source": [
        "sales_df_grouped.shape"
      ]
    },
    {
      "cell_type": "code",
      "execution_count": 9,
      "metadata": {
        "colab": {
          "base_uri": "https://localhost:8080/",
          "height": 176
        },
        "id": "ZGW4edK99Krx",
        "outputId": "e55267f6-6ca8-42c9-981d-211c7b621bfb"
      },
      "outputs": [
        {
          "output_type": "execute_result",
          "data": {
            "text/plain": [
              "   Temperature  Fuel_Price         CPI  Unemployment           Size  IS_XMAS  \\\n",
              "0    33.277942    2.717869  167.398405      8.576731  137430.535364        0   \n",
              "1    33.361810    2.696102  167.384138      8.567309  137622.780785        0   \n",
              "\n",
              "   IS_SUPERBOWL  IS_TGIVING  IS_LABORDAY  ym_int  \n",
              "0             0           0            0  201002  \n",
              "1             1           0            0  201002  "
            ],
            "text/html": [
              "\n",
              "  <div id=\"df-b8b53632-1fdc-4b59-96ea-67f3fe56750f\">\n",
              "    <div class=\"colab-df-container\">\n",
              "      <div>\n",
              "<style scoped>\n",
              "    .dataframe tbody tr th:only-of-type {\n",
              "        vertical-align: middle;\n",
              "    }\n",
              "\n",
              "    .dataframe tbody tr th {\n",
              "        vertical-align: top;\n",
              "    }\n",
              "\n",
              "    .dataframe thead th {\n",
              "        text-align: right;\n",
              "    }\n",
              "</style>\n",
              "<table border=\"1\" class=\"dataframe\">\n",
              "  <thead>\n",
              "    <tr style=\"text-align: right;\">\n",
              "      <th></th>\n",
              "      <th>Temperature</th>\n",
              "      <th>Fuel_Price</th>\n",
              "      <th>CPI</th>\n",
              "      <th>Unemployment</th>\n",
              "      <th>Size</th>\n",
              "      <th>IS_XMAS</th>\n",
              "      <th>IS_SUPERBOWL</th>\n",
              "      <th>IS_TGIVING</th>\n",
              "      <th>IS_LABORDAY</th>\n",
              "      <th>ym_int</th>\n",
              "    </tr>\n",
              "  </thead>\n",
              "  <tbody>\n",
              "    <tr>\n",
              "      <th>0</th>\n",
              "      <td>33.277942</td>\n",
              "      <td>2.717869</td>\n",
              "      <td>167.398405</td>\n",
              "      <td>8.576731</td>\n",
              "      <td>137430.535364</td>\n",
              "      <td>0</td>\n",
              "      <td>0</td>\n",
              "      <td>0</td>\n",
              "      <td>0</td>\n",
              "      <td>201002</td>\n",
              "    </tr>\n",
              "    <tr>\n",
              "      <th>1</th>\n",
              "      <td>33.361810</td>\n",
              "      <td>2.696102</td>\n",
              "      <td>167.384138</td>\n",
              "      <td>8.567309</td>\n",
              "      <td>137622.780785</td>\n",
              "      <td>0</td>\n",
              "      <td>1</td>\n",
              "      <td>0</td>\n",
              "      <td>0</td>\n",
              "      <td>201002</td>\n",
              "    </tr>\n",
              "  </tbody>\n",
              "</table>\n",
              "</div>\n",
              "      <button class=\"colab-df-convert\" onclick=\"convertToInteractive('df-b8b53632-1fdc-4b59-96ea-67f3fe56750f')\"\n",
              "              title=\"Convert this dataframe to an interactive table.\"\n",
              "              style=\"display:none;\">\n",
              "        \n",
              "  <svg xmlns=\"http://www.w3.org/2000/svg\" height=\"24px\"viewBox=\"0 0 24 24\"\n",
              "       width=\"24px\">\n",
              "    <path d=\"M0 0h24v24H0V0z\" fill=\"none\"/>\n",
              "    <path d=\"M18.56 5.44l.94 2.06.94-2.06 2.06-.94-2.06-.94-.94-2.06-.94 2.06-2.06.94zm-11 1L8.5 8.5l.94-2.06 2.06-.94-2.06-.94L8.5 2.5l-.94 2.06-2.06.94zm10 10l.94 2.06.94-2.06 2.06-.94-2.06-.94-.94-2.06-.94 2.06-2.06.94z\"/><path d=\"M17.41 7.96l-1.37-1.37c-.4-.4-.92-.59-1.43-.59-.52 0-1.04.2-1.43.59L10.3 9.45l-7.72 7.72c-.78.78-.78 2.05 0 2.83L4 21.41c.39.39.9.59 1.41.59.51 0 1.02-.2 1.41-.59l7.78-7.78 2.81-2.81c.8-.78.8-2.07 0-2.86zM5.41 20L4 18.59l7.72-7.72 1.47 1.35L5.41 20z\"/>\n",
              "  </svg>\n",
              "      </button>\n",
              "      \n",
              "  <style>\n",
              "    .colab-df-container {\n",
              "      display:flex;\n",
              "      flex-wrap:wrap;\n",
              "      gap: 12px;\n",
              "    }\n",
              "\n",
              "    .colab-df-convert {\n",
              "      background-color: #E8F0FE;\n",
              "      border: none;\n",
              "      border-radius: 50%;\n",
              "      cursor: pointer;\n",
              "      display: none;\n",
              "      fill: #1967D2;\n",
              "      height: 32px;\n",
              "      padding: 0 0 0 0;\n",
              "      width: 32px;\n",
              "    }\n",
              "\n",
              "    .colab-df-convert:hover {\n",
              "      background-color: #E2EBFA;\n",
              "      box-shadow: 0px 1px 2px rgba(60, 64, 67, 0.3), 0px 1px 3px 1px rgba(60, 64, 67, 0.15);\n",
              "      fill: #174EA6;\n",
              "    }\n",
              "\n",
              "    [theme=dark] .colab-df-convert {\n",
              "      background-color: #3B4455;\n",
              "      fill: #D2E3FC;\n",
              "    }\n",
              "\n",
              "    [theme=dark] .colab-df-convert:hover {\n",
              "      background-color: #434B5C;\n",
              "      box-shadow: 0px 1px 3px 1px rgba(0, 0, 0, 0.15);\n",
              "      filter: drop-shadow(0px 1px 2px rgba(0, 0, 0, 0.3));\n",
              "      fill: #FFFFFF;\n",
              "    }\n",
              "  </style>\n",
              "\n",
              "      <script>\n",
              "        const buttonEl =\n",
              "          document.querySelector('#df-b8b53632-1fdc-4b59-96ea-67f3fe56750f button.colab-df-convert');\n",
              "        buttonEl.style.display =\n",
              "          google.colab.kernel.accessAllowed ? 'block' : 'none';\n",
              "\n",
              "        async function convertToInteractive(key) {\n",
              "          const element = document.querySelector('#df-b8b53632-1fdc-4b59-96ea-67f3fe56750f');\n",
              "          const dataTable =\n",
              "            await google.colab.kernel.invokeFunction('convertToInteractive',\n",
              "                                                     [key], {});\n",
              "          if (!dataTable) return;\n",
              "\n",
              "          const docLinkHtml = 'Like what you see? Visit the ' +\n",
              "            '<a target=\"_blank\" href=https://colab.research.google.com/notebooks/data_table.ipynb>data table notebook</a>'\n",
              "            + ' to learn more about interactive tables.';\n",
              "          element.innerHTML = '';\n",
              "          dataTable['output_type'] = 'display_data';\n",
              "          await google.colab.output.renderOutput(dataTable, element);\n",
              "          const docLink = document.createElement('div');\n",
              "          docLink.innerHTML = docLinkHtml;\n",
              "          element.appendChild(docLink);\n",
              "        }\n",
              "      </script>\n",
              "    </div>\n",
              "  </div>\n",
              "  "
            ]
          },
          "metadata": {},
          "execution_count": 9
        }
      ],
      "source": [
        "# X = sales_df.copy()\n",
        "X = sales_df_grouped.copy()\n",
        "X.drop(columns=['Weekly_Sales', 'week_of_year', 'Date'], axis=1, inplace=True)\n",
        "\n",
        "X.head(2)"
      ]
    },
    {
      "cell_type": "code",
      "execution_count": 10,
      "metadata": {
        "colab": {
          "base_uri": "https://localhost:8080/"
        },
        "id": "qiML1hDO9Krx",
        "outputId": "3da641fc-f015-4515-d7a2-f5f81c33c1cd"
      },
      "outputs": [
        {
          "output_type": "execute_result",
          "data": {
            "text/plain": [
              "array([[49750740.5 ],\n",
              "       [48336677.63],\n",
              "       [48276993.78],\n",
              "       [43968571.13],\n",
              "       [46871470.3 ]])"
            ]
          },
          "metadata": {},
          "execution_count": 10
        }
      ],
      "source": [
        "# results in 143 rows of 1 array element each\n",
        "y = sales_df_grouped['Weekly_Sales'].values.reshape(-1,1)\n",
        "y[:5]"
      ]
    },
    {
      "cell_type": "code",
      "execution_count": 11,
      "metadata": {
        "colab": {
          "base_uri": "https://localhost:8080/"
        },
        "id": "lWHGALPl9Krx",
        "outputId": "649e2745-54dd-486a-8ae5-bd8ccc1752a7"
      },
      "outputs": [
        {
          "output_type": "execute_result",
          "data": {
            "text/plain": [
              "((143, 10), (143, 1))"
            ]
          },
          "metadata": {},
          "execution_count": 11
        }
      ],
      "source": [
        "X.shape, y.shape"
      ]
    },
    {
      "cell_type": "code",
      "execution_count": 65,
      "metadata": {
        "colab": {
          "base_uri": "https://localhost:8080/"
        },
        "id": "EOhZGrEW9Krx",
        "outputId": "786cf28d-ac33-4a5b-fddb-abf6443ccb1a"
      },
      "outputs": [
        {
          "output_type": "stream",
          "name": "stdout",
          "text": [
            "(92, 10)\n",
            "(51, 10)\n"
          ]
        }
      ],
      "source": [
        "# Split train and test (100 rows for train and 43 for test)\n",
        "count = -51\n",
        "X_train = X.iloc[:count]\n",
        "X_test = X.iloc[count:]\n",
        "print(X_train.shape)\n",
        "print(X_test.shape)"
      ]
    },
    {
      "cell_type": "code",
      "execution_count": 66,
      "metadata": {
        "colab": {
          "base_uri": "https://localhost:8080/"
        },
        "id": "K06Afr_k9Krx",
        "outputId": "d6db28cc-37b5-4d2e-8846-40f5ba5d9605"
      },
      "outputs": [
        {
          "output_type": "stream",
          "name": "stdout",
          "text": [
            "(92, 1)\n",
            "(51, 1)\n"
          ]
        }
      ],
      "source": [
        "# Split train and test (100 rows for train and 43 for test)\n",
        "y_train = y[:count]\n",
        "y_test = y[count:]\n",
        "print(y_train.shape)\n",
        "print(y_test.shape)"
      ]
    },
    {
      "cell_type": "code",
      "execution_count": 67,
      "metadata": {
        "id": "YWcoI3Wn9Kry"
      },
      "outputs": [],
      "source": [
        "# Set x-axis values to be used\n",
        "x_train_values = sales_df_grouped['Date']\n",
        "x_trvalues = x_train_values[:count]\n",
        "\n",
        "x_test_values = sales_df_grouped['Date']\n",
        "x_tvalues = x_test_values[count:]"
      ]
    },
    {
      "cell_type": "code",
      "execution_count": 68,
      "metadata": {
        "id": "Gd8ZCFRo9Kry"
      },
      "outputs": [],
      "source": [
        "# Create the StandardScaler instance\n",
        "scaler = StandardScaler()\n",
        "\n",
        "# from sklearn.preprocessing import PowerTransformer\n",
        "# scaler = PowerTransformer(method='yeo-johnson', standardize=False)\n",
        "\n",
        "# from sklearn.preprocessing import MinMaxScaler\n",
        "# scaler = MinMaxScaler()"
      ]
    },
    {
      "cell_type": "code",
      "execution_count": 69,
      "metadata": {
        "id": "me-T-HZb9Kry"
      },
      "outputs": [],
      "source": [
        "# Fit the Standard Scaler with the training data\n",
        "X_scaler = scaler.fit(X_train)"
      ]
    },
    {
      "cell_type": "code",
      "execution_count": 70,
      "metadata": {
        "id": "Oxsjpcif9Kry"
      },
      "outputs": [],
      "source": [
        "# Scale the training data\n",
        "X_train_scaled = X_scaler.transform(X_train)\n",
        "X_test_scaled = X_scaler.transform(X_test)"
      ]
    },
    {
      "cell_type": "code",
      "execution_count": 71,
      "metadata": {
        "id": "VgFFYEA89Kry"
      },
      "outputs": [],
      "source": [
        "rf_model = RandomForestRegressor(n_estimators=150, random_state=0)"
      ]
    },
    {
      "cell_type": "code",
      "execution_count": 72,
      "metadata": {
        "id": "RWN_i8aV9Kry"
      },
      "outputs": [],
      "source": [
        "# Fit the model and use .ravel()on the \"y_train\" data. \n",
        "rf_model = rf_model.fit(X_train_scaled, y_train.ravel())"
      ]
    },
    {
      "cell_type": "code",
      "execution_count": 73,
      "metadata": {
        "id": "slLqa1oo9Kry"
      },
      "outputs": [],
      "source": [
        "# Making predictions for training data\n",
        "y_train_pred = rf_model.predict(X_train_scaled)"
      ]
    },
    {
      "cell_type": "code",
      "execution_count": 74,
      "metadata": {
        "colab": {
          "base_uri": "https://localhost:8080/"
        },
        "id": "DlxT9u5G9Kry",
        "outputId": "ec8bd0fc-a2b4-40ad-d659-0d638a3248c0"
      },
      "outputs": [
        {
          "output_type": "execute_result",
          "data": {
            "text/plain": [
              "0.8837365353970484"
            ]
          },
          "metadata": {},
          "execution_count": 74
        }
      ],
      "source": [
        "r2_score(y_train, y_train_pred)"
      ]
    },
    {
      "cell_type": "code",
      "execution_count": 75,
      "metadata": {
        "colab": {
          "base_uri": "https://localhost:8080/",
          "height": 470
        },
        "id": "pxjalD1M9Krz",
        "outputId": "c77c8c5f-0023-4cd8-c81a-44ffe8d8c276"
      },
      "outputs": [
        {
          "output_type": "execute_result",
          "data": {
            "text/plain": [
              "Text(0.5, 1.0, 'Training Data Plot (Actual Vs Prediction)')"
            ]
          },
          "metadata": {},
          "execution_count": 75
        },
        {
          "output_type": "display_data",
          "data": {
            "text/plain": [
              "<Figure size 640x480 with 1 Axes>"
            ],
            "image/png": "[encoded data removed]"
          },
          "metadata": {}
        }
      ],
      "source": [
        "plt.plot(x_trvalues, y_train, color = \"blue\", label='Actual')\n",
        "plt.plot(x_trvalues, y_train_pred, color = \"red\", label='Predicted')\n",
        "plt.legend(loc='upper left')\n",
        "plt.title('Training Data Plot (Actual Vs Prediction)')"
      ]
    },
    {
      "cell_type": "code",
      "execution_count": 76,
      "metadata": {
        "id": "oAcr9z3Z9Krz"
      },
      "outputs": [],
      "source": [
        "# Making predictions for testing data\n",
        "y_test_pred = rf_model.predict(X_test_scaled)"
      ]
    },
    {
      "cell_type": "code",
      "execution_count": 77,
      "metadata": {
        "colab": {
          "base_uri": "https://localhost:8080/"
        },
        "id": "yKDjhZHr9Krz",
        "outputId": "4d3a93ea-2951-4988-d20a-236b5348b3ad"
      },
      "outputs": [
        {
          "output_type": "execute_result",
          "data": {
            "text/plain": [
              "0.23869895614172976"
            ]
          },
          "metadata": {},
          "execution_count": 77
        }
      ],
      "source": [
        "\n",
        "r2_score(y_test, y_test_pred)"
      ]
    },
    {
      "cell_type": "code",
      "execution_count": 84,
      "metadata": {
        "colab": {
          "base_uri": "https://localhost:8080/",
          "height": 507
        },
        "id": "gz6_L-5U9Krz",
        "outputId": "290c689f-cdc2-462f-8298-58e60ffb7f00"
      },
      "outputs": [
        {
          "output_type": "execute_result",
          "data": {
            "text/plain": [
              "Text(0, 0.5, 'Weekly Sales ($)')"
            ]
          },
          "metadata": {},
          "execution_count": 84
        },
        {
          "output_type": "display_data",
          "data": {
            "text/plain": [
              "<Figure size 640x480 with 1 Axes>"
            ],
            "image/png": "[encoded data removed]"
          },
          "metadata": {}
        }
      ],
      "source": [
        "# Plot testing data\n",
        "plt.plot(x_tvalues, y_test, color = \"green\", label='Actual')\n",
        "plt.plot(x_tvalues, y_test_pred, color = \"blue\", label='Predicted')\n",
        "plt.legend(loc='upper left')\n",
        "plt.title('Testing Data Plot (Actual Vs Prediction)')\n",
        "plt.xticks(rotation = 45)\n",
        "plt.ylabel('Weekly Sales ($)')"
      ]
    },
    {
      "cell_type": "code",
      "execution_count": 79,
      "metadata": {
        "colab": {
          "base_uri": "https://localhost:8080/"
        },
        "id": "cXrwTzV99Krz",
        "outputId": "0906e7c7-c66b-4593-c284-f6b5cdfe3281"
      },
      "outputs": [
        {
          "output_type": "stream",
          "name": "stdout",
          "text": [
            "91.87728646646121\n"
          ]
        }
      ],
      "source": [
        "errors = abs(y_test_pred - y_test)\n",
        "mape = 100 * np.mean(errors/y_test)\n",
        "accuracy = 100 - mape\n",
        "print(accuracy)"
      ]
    }
  ],
  "metadata": {
    "kernelspec": {
      "display_name": "Python 3.7.7 ('PythonData')",
      "language": "python",
      "name": "python3"
    },
    "language_info": {
      "codemirror_mode": {
        "name": "ipython",
        "version": 3
      },
      "file_extension": ".py",
      "mimetype": "text/x-python",
      "name": "python",
      "nbconvert_exporter": "python",
      "pygments_lexer": "ipython3",
      "version": "3.7.7"
    },
    "orig_nbformat": 4,
    "vscode": {
      "interpreter": {
        "hash": "87bec44227f665cd1a12a912a3fe129cb1795a5babfd21638bc00827218663c0"
      }
    },
    "colab": {
      "provenance": []
    }
  },
  "nbformat": 4,
  "nbformat_minor": 0
}